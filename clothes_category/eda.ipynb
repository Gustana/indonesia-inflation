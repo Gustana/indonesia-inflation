{
 "cells": [
  {
   "cell_type": "markdown",
   "id": "1d590a9d",
   "metadata": {},
   "source": [
    "This project use inflation data of clothes and footwear category in Indonesia.\n",
    "\n",
    "Datasets were collected from <a href=\"https://www.bps.go.id/indicator/3/1894/4/inflasi-2018-100-menurut-kelompok-dan-sub-kelompok-02-pakaian-dan-alas-kaki.html\"> Statistics Indonesia (BPS) </a>\n",
    "\n",
    "The data that available starts from 2020 to 2023"
   ]
  },
  {
   "cell_type": "code",
   "execution_count": 1,
   "id": "2680ee7c",
   "metadata": {
    "ExecuteTime": {
     "end_time": "2023-11-11T11:42:49.111995Z",
     "start_time": "2023-11-11T11:42:47.356002Z"
    }
   },
   "outputs": [],
   "source": [
    "import pandas as pd\n",
    "import os\n",
    "import matplotlib.pyplot as plt\n",
    "import string\n"
   ]
  },
  {
   "cell_type": "code",
   "execution_count": 2,
   "id": "18089bb6",
   "metadata": {
    "ExecuteTime": {
     "end_time": "2023-11-11T11:42:49.126999Z",
     "start_time": "2023-11-11T11:42:49.115998Z"
    }
   },
   "outputs": [],
   "source": [
    "DATASET_DIR_PATH = 'dataset/'"
   ]
  },
  {
   "cell_type": "code",
   "execution_count": 3,
   "id": "3dfb28f6",
   "metadata": {
    "ExecuteTime": {
     "end_time": "2023-11-11T11:42:49.179997Z",
     "start_time": "2023-11-11T11:42:49.134999Z"
    },
    "scrolled": true
   },
   "outputs": [
    {
     "data": {
      "text/plain": [
       "['dataset/2020.xlsx',\n",
       " 'dataset/2021.xlsx',\n",
       " 'dataset/2022.xlsx',\n",
       " 'dataset/2023.xlsx',\n",
       " 'dataset/additional']"
      ]
     },
     "execution_count": 3,
     "metadata": {},
     "output_type": "execute_result"
    }
   ],
   "source": [
    "dataset_paths = [DATASET_DIR_PATH+fileName for fileName in os.listdir(DATASET_DIR_PATH)]\n",
    "dataset_paths"
   ]
  },
  {
   "cell_type": "code",
   "execution_count": 4,
   "id": "e932daa3",
   "metadata": {
    "ExecuteTime": {
     "end_time": "2023-11-11T11:42:49.223999Z",
     "start_time": "2023-11-11T11:42:49.192999Z"
    }
   },
   "outputs": [],
   "source": [
    "def rename_df_cols(df):\n",
    "    column_mapping = {\n",
    "        **{col: col.replace('.1', '') for col in df.columns},\n",
    "        **{'Unnamed: 0': 'Kota'}\n",
    "    }\n",
    "\n",
    "    df = df.rename(\n",
    "        columns=column_mapping\n",
    "    )\n",
    "    \n",
    "    return df"
   ]
  },
  {
   "cell_type": "code",
   "execution_count": 5,
   "id": "4e701ae3",
   "metadata": {
    "ExecuteTime": {
     "end_time": "2023-11-11T11:42:49.256001Z",
     "start_time": "2023-11-11T11:42:49.232998Z"
    }
   },
   "outputs": [],
   "source": [
    "def read_df(path):\n",
    "    df = pd.read_excel(\n",
    "        dataset_paths[0], \n",
    "        engine='openpyxl',\n",
    "        usecols='a, o:z', # get clothes data only\n",
    "        skiprows=[0,1,2,94,95,96,97,98], # skip unused data\n",
    "    )\n",
    "    \n",
    "    df = rename_df_cols(df)\n",
    "    \n",
    "    # in order to make df structure consice\n",
    "    # I decided to add year column\n",
    "    df['Tahun'] = path.split('/')[1][:4]\n",
    "    \n",
    "    return df"
   ]
  },
  {
   "cell_type": "code",
   "execution_count": 6,
   "id": "7374757e",
   "metadata": {
    "ExecuteTime": {
     "end_time": "2023-11-11T11:42:49.287017Z",
     "start_time": "2023-11-11T11:42:49.265000Z"
    }
   },
   "outputs": [],
   "source": [
    "# read all ds as dataframe\n",
    "# return combined of those dataframes\n",
    "\n",
    "def get_combined_df(dataset_paths):\n",
    "    final_df = read_df(dataset_paths[0])\n",
    "    \n",
    "    for path in dataset_paths[1:]:\n",
    "        df = read_df(path)\n",
    "        \n",
    "        # merge dataframe\n",
    "        final_df = final_df.merge(\n",
    "            df,\n",
    "#             on=final_df.columns,\n",
    "            how='outer'\n",
    "        )\n",
    "        \n",
    "    return final_df"
   ]
  },
  {
   "cell_type": "code",
   "execution_count": 7,
   "id": "88d4ecc6",
   "metadata": {
    "ExecuteTime": {
     "end_time": "2023-11-11T11:42:50.256998Z",
     "start_time": "2023-11-11T11:42:49.293999Z"
    }
   },
   "outputs": [
    {
     "data": {
      "text/html": [
       "<div>\n",
       "<style scoped>\n",
       "    .dataframe tbody tr th:only-of-type {\n",
       "        vertical-align: middle;\n",
       "    }\n",
       "\n",
       "    .dataframe tbody tr th {\n",
       "        vertical-align: top;\n",
       "    }\n",
       "\n",
       "    .dataframe thead th {\n",
       "        text-align: right;\n",
       "    }\n",
       "</style>\n",
       "<table border=\"1\" class=\"dataframe\">\n",
       "  <thead>\n",
       "    <tr style=\"text-align: right;\">\n",
       "      <th></th>\n",
       "      <th>Kota</th>\n",
       "      <th>Januari</th>\n",
       "      <th>Februari</th>\n",
       "      <th>Maret</th>\n",
       "      <th>April</th>\n",
       "      <th>Mei</th>\n",
       "      <th>Juni</th>\n",
       "      <th>Juli</th>\n",
       "      <th>Agustus</th>\n",
       "      <th>September</th>\n",
       "      <th>Oktober</th>\n",
       "      <th>November</th>\n",
       "      <th>Desember</th>\n",
       "      <th>Tahun</th>\n",
       "    </tr>\n",
       "  </thead>\n",
       "  <tbody>\n",
       "    <tr>\n",
       "      <th>0</th>\n",
       "      <td>KOTA MEULABOH</td>\n",
       "      <td>-0.24</td>\n",
       "      <td>0.01</td>\n",
       "      <td>-0.11</td>\n",
       "      <td>0.00</td>\n",
       "      <td>-0.19</td>\n",
       "      <td>0.02</td>\n",
       "      <td>0.15</td>\n",
       "      <td>0.32</td>\n",
       "      <td>0.00</td>\n",
       "      <td>0.00</td>\n",
       "      <td>0.01</td>\n",
       "      <td>0.00</td>\n",
       "      <td>2020</td>\n",
       "    </tr>\n",
       "    <tr>\n",
       "      <th>1</th>\n",
       "      <td>KOTA BANDA ACEH</td>\n",
       "      <td>0.62</td>\n",
       "      <td>0.13</td>\n",
       "      <td>0.03</td>\n",
       "      <td>0.00</td>\n",
       "      <td>-0.03</td>\n",
       "      <td>0.00</td>\n",
       "      <td>0.00</td>\n",
       "      <td>0.00</td>\n",
       "      <td>0.00</td>\n",
       "      <td>0.00</td>\n",
       "      <td>-0.13</td>\n",
       "      <td>0.00</td>\n",
       "      <td>2020</td>\n",
       "    </tr>\n",
       "    <tr>\n",
       "      <th>2</th>\n",
       "      <td>KOTA LHOKSEUMAWE</td>\n",
       "      <td>0.00</td>\n",
       "      <td>1.32</td>\n",
       "      <td>0.00</td>\n",
       "      <td>0.18</td>\n",
       "      <td>0.97</td>\n",
       "      <td>0.00</td>\n",
       "      <td>0.31</td>\n",
       "      <td>0.00</td>\n",
       "      <td>0.00</td>\n",
       "      <td>0.00</td>\n",
       "      <td>0.00</td>\n",
       "      <td>0.00</td>\n",
       "      <td>2020</td>\n",
       "    </tr>\n",
       "    <tr>\n",
       "      <th>3</th>\n",
       "      <td>KOTA SIBOLGA</td>\n",
       "      <td>0.11</td>\n",
       "      <td>0.17</td>\n",
       "      <td>0.22</td>\n",
       "      <td>0.00</td>\n",
       "      <td>0.82</td>\n",
       "      <td>0.82</td>\n",
       "      <td>0.32</td>\n",
       "      <td>0.03</td>\n",
       "      <td>0.00</td>\n",
       "      <td>0.11</td>\n",
       "      <td>0.45</td>\n",
       "      <td>5.33</td>\n",
       "      <td>2020</td>\n",
       "    </tr>\n",
       "    <tr>\n",
       "      <th>4</th>\n",
       "      <td>KOTA PEMATANG SIANTAR</td>\n",
       "      <td>-0.12</td>\n",
       "      <td>0.06</td>\n",
       "      <td>0.18</td>\n",
       "      <td>0.00</td>\n",
       "      <td>-0.12</td>\n",
       "      <td>0.00</td>\n",
       "      <td>0.00</td>\n",
       "      <td>0.00</td>\n",
       "      <td>0.04</td>\n",
       "      <td>0.05</td>\n",
       "      <td>0.00</td>\n",
       "      <td>0.02</td>\n",
       "      <td>2020</td>\n",
       "    </tr>\n",
       "  </tbody>\n",
       "</table>\n",
       "</div>"
      ],
      "text/plain": [
       "                    Kota  Januari  Februari  Maret  April   Mei  Juni  Juli  \\\n",
       "0          KOTA MEULABOH    -0.24      0.01  -0.11   0.00 -0.19  0.02  0.15   \n",
       "1        KOTA BANDA ACEH     0.62      0.13   0.03   0.00 -0.03  0.00  0.00   \n",
       "2       KOTA LHOKSEUMAWE     0.00      1.32   0.00   0.18  0.97  0.00  0.31   \n",
       "3           KOTA SIBOLGA     0.11      0.17   0.22   0.00  0.82  0.82  0.32   \n",
       "4  KOTA PEMATANG SIANTAR    -0.12      0.06   0.18   0.00 -0.12  0.00  0.00   \n",
       "\n",
       "   Agustus  September  Oktober  November  Desember Tahun  \n",
       "0     0.32       0.00     0.00      0.01      0.00  2020  \n",
       "1     0.00       0.00     0.00     -0.13      0.00  2020  \n",
       "2     0.00       0.00     0.00      0.00      0.00  2020  \n",
       "3     0.03       0.00     0.11      0.45      5.33  2020  \n",
       "4     0.00       0.04     0.05      0.00      0.02  2020  "
      ]
     },
     "execution_count": 7,
     "metadata": {},
     "output_type": "execute_result"
    }
   ],
   "source": [
    "df = get_combined_df(dataset_paths)\n",
    "df.head()"
   ]
  },
  {
   "cell_type": "markdown",
   "id": "947bd320",
   "metadata": {},
   "source": [
    "# EDA"
   ]
  },
  {
   "cell_type": "markdown",
   "id": "1b378555",
   "metadata": {},
   "source": [
    "## Data cleaning"
   ]
  },
  {
   "cell_type": "markdown",
   "id": "fd4f1829",
   "metadata": {},
   "source": [
    "### na data inspection"
   ]
  },
  {
   "cell_type": "code",
   "execution_count": 8,
   "id": "e1576e7d",
   "metadata": {
    "ExecuteTime": {
     "end_time": "2023-11-11T11:42:50.272998Z",
     "start_time": "2023-11-11T11:42:50.259998Z"
    }
   },
   "outputs": [
    {
     "data": {
      "text/plain": [
       "Kota         0\n",
       "Januari      0\n",
       "Februari     0\n",
       "Maret        0\n",
       "April        0\n",
       "Mei          0\n",
       "Juni         0\n",
       "Juli         0\n",
       "Agustus      0\n",
       "September    0\n",
       "Oktober      0\n",
       "November     0\n",
       "Desember     0\n",
       "Tahun        0\n",
       "dtype: int64"
      ]
     },
     "execution_count": 8,
     "metadata": {},
     "output_type": "execute_result"
    }
   ],
   "source": [
    "df.isna().sum()"
   ]
  },
  {
   "cell_type": "markdown",
   "id": "419085e5",
   "metadata": {},
   "source": [
    "### remove word kota in Kota Coulmn"
   ]
  },
  {
   "cell_type": "code",
   "execution_count": 9,
   "id": "d6462078",
   "metadata": {
    "ExecuteTime": {
     "end_time": "2023-11-11T11:42:50.304999Z",
     "start_time": "2023-11-11T11:42:50.278000Z"
    },
    "scrolled": false
   },
   "outputs": [
    {
     "data": {
      "text/plain": [
       "445        MANOKWARI\n",
       "446      KOTA SORONG\n",
       "447          MERAUKE\n",
       "448           TIMIKA\n",
       "449    KOTA JAYAPURA\n",
       "Name: Kota, dtype: object"
      ]
     },
     "execution_count": 9,
     "metadata": {},
     "output_type": "execute_result"
    }
   ],
   "source": [
    "df['Kota'].tail()"
   ]
  },
  {
   "cell_type": "code",
   "execution_count": 10,
   "id": "bd175a30",
   "metadata": {
    "ExecuteTime": {
     "end_time": "2023-11-11T11:42:50.336996Z",
     "start_time": "2023-11-11T11:42:50.309999Z"
    }
   },
   "outputs": [
    {
     "data": {
      "text/plain": [
       "445    Manokwari\n",
       "446       Sorong\n",
       "447      Merauke\n",
       "448       Timika\n",
       "449     Jayapura\n",
       "Name: Kota, dtype: object"
      ]
     },
     "execution_count": 10,
     "metadata": {},
     "output_type": "execute_result"
    }
   ],
   "source": [
    "df['Kota'] = df['Kota'].apply(lambda kota: string.capwords(kota).replace('Kota ', ''))\n",
    "df['Kota'].tail()"
   ]
  },
  {
   "cell_type": "code",
   "execution_count": 11,
   "id": "5c4bc13e",
   "metadata": {
    "ExecuteTime": {
     "end_time": "2023-11-11T11:42:50.384000Z",
     "start_time": "2023-11-11T11:42:50.348001Z"
    },
    "scrolled": false
   },
   "outputs": [
    {
     "name": "stdout",
     "output_type": "stream",
     "text": [
      "<class 'pandas.core.frame.DataFrame'>\n",
      "RangeIndex: 450 entries, 0 to 449\n",
      "Data columns (total 14 columns):\n",
      " #   Column     Non-Null Count  Dtype  \n",
      "---  ------     --------------  -----  \n",
      " 0   Kota       450 non-null    object \n",
      " 1   Januari    450 non-null    float64\n",
      " 2   Februari   450 non-null    float64\n",
      " 3   Maret      450 non-null    float64\n",
      " 4   April      450 non-null    float64\n",
      " 5   Mei        450 non-null    float64\n",
      " 6   Juni       450 non-null    float64\n",
      " 7   Juli       450 non-null    float64\n",
      " 8   Agustus    450 non-null    float64\n",
      " 9   September  450 non-null    float64\n",
      " 10  Oktober    450 non-null    float64\n",
      " 11  November   450 non-null    float64\n",
      " 12  Desember   450 non-null    float64\n",
      " 13  Tahun      450 non-null    object \n",
      "dtypes: float64(12), object(2)\n",
      "memory usage: 49.3+ KB\n"
     ]
    }
   ],
   "source": [
    "df.info()"
   ]
  },
  {
   "cell_type": "markdown",
   "id": "bd316f65",
   "metadata": {},
   "source": [
    "> The dataset contains inflation in 90 cities across all provincies in Indonesia. The inflation grouped by month"
   ]
  },
  {
   "cell_type": "markdown",
   "id": "1c3b0d81",
   "metadata": {},
   "source": [
    "## Data preprocessing"
   ]
  },
  {
   "cell_type": "markdown",
   "id": "c48f1950",
   "metadata": {},
   "source": [
    "### add province column"
   ]
  },
  {
   "cell_type": "code",
   "execution_count": 12,
   "id": "f6c9cfbe",
   "metadata": {
    "ExecuteTime": {
     "end_time": "2023-11-11T11:42:50.446999Z",
     "start_time": "2023-11-11T11:42:50.391998Z"
    },
    "scrolled": true
   },
   "outputs": [
    {
     "data": {
      "text/plain": [
       "{'Meulaboh': 'Aceh',\n",
       " 'Banda Aceh': 'Aceh',\n",
       " 'Lhokseumawe': 'Aceh',\n",
       " 'Sibolga': 'Sumatera Utara',\n",
       " 'Pematang Siantar': 'Sumatera Utara',\n",
       " 'Medan': 'Sumatera Utara',\n",
       " 'Padangsidimpuan': 'Sumatera Utara',\n",
       " 'Gunungsitoli': 'Sumatera Utara',\n",
       " 'Padang': 'Sumatera Barat',\n",
       " 'Bukittinggi': 'Sumatera Barat',\n",
       " 'Tembilahan': 'Riau',\n",
       " 'Pekanbaru': 'Riau',\n",
       " 'Dumai': 'Riau',\n",
       " 'Bungo': 'Jambi',\n",
       " 'Jambi': 'Jambi',\n",
       " 'Palembang': 'Sumatera Selatan',\n",
       " 'Lubuklinggau': 'Sumatera Selatan',\n",
       " 'Bengkulu': 'Bengkulu',\n",
       " 'Bandar Lampung': 'Lampung',\n",
       " 'Metro': 'Lampung',\n",
       " 'Tanjung Pandan': 'Kepulauan Bangka Belitung',\n",
       " 'Pangkal Pinang': 'Kepulauan Bangka Belitung',\n",
       " 'Batam': 'Kepulauan Riau',\n",
       " 'Tanjung Pinang': 'Kepulauan Riau',\n",
       " 'Dki Jakarta': 'Daerah Khusus Ibukota Jakarta',\n",
       " 'Bogor': 'Jawa Barat',\n",
       " 'Sukabumi': 'Jawa Barat',\n",
       " 'Bandung': 'Jawa Barat',\n",
       " 'Cirebon': 'Jawa Barat',\n",
       " 'Bekasi': 'Jawa Barat',\n",
       " 'Depok': 'Jawa Barat',\n",
       " 'Tasikmalaya': 'Jawa Barat',\n",
       " 'Cilacap': 'Jawa Tengah',\n",
       " 'Purwokerto': 'Jawa Tengah',\n",
       " 'Kudus': 'Jawa Tengah',\n",
       " 'Surakarta': 'Jawa Tengah',\n",
       " 'Semarang': 'Jawa Tengah',\n",
       " 'Tegal': 'Jawa Tengah',\n",
       " 'Yogyakarta': 'Daerah Istimewa Yogyakarta',\n",
       " 'Jember': 'Jawa Timur',\n",
       " 'Banyuwangi': 'Jawa Timur',\n",
       " 'Sumenep': 'Jawa Timur',\n",
       " 'Kediri': 'Jawa Timur',\n",
       " 'Malang': 'Jawa Timur',\n",
       " 'Probolinggo': 'Jawa Timur',\n",
       " 'Madiun': 'Jawa Timur',\n",
       " 'Surabaya': 'Jawa Timur',\n",
       " 'Tangerang': 'Banten',\n",
       " 'Cilegon': 'Banten',\n",
       " 'Serang': 'Banten',\n",
       " 'Singaraja': 'Bali',\n",
       " 'Denpasar': 'Bali',\n",
       " 'Mataram': 'Nusa Tenggara Barat',\n",
       " 'Bima': 'Nusa Tenggara Barat',\n",
       " 'Waingapu': 'Nusa Tenggara Timur',\n",
       " 'Maumere': 'Nusa Tenggara Timur',\n",
       " 'Kupang': 'Nusa Tenggara Timur',\n",
       " 'Sintang': 'Kalimantan Barat',\n",
       " 'Pontianak': 'Kalimantan Barat',\n",
       " 'Singkawang': 'Kalimantan Barat',\n",
       " 'Sampit': 'Kalimantan Tengah',\n",
       " 'Palangka Raya': 'Kalimantan Tengah',\n",
       " 'Kotabaru': 'Kalimantan Selatan',\n",
       " 'Tanjung': 'Kalimantan Selatan',\n",
       " 'Banjarmasin': 'Kalimantan Selatan',\n",
       " 'Balikpapan': 'Kalimantan Timur',\n",
       " 'Samarinda': 'Kalimantan Timur',\n",
       " 'Tanjung Selor': 'Kalimantan Utara',\n",
       " 'Tarakan': 'Kalimantan Utara',\n",
       " 'Manado': 'Sulawesi Utara',\n",
       " 'Kotamobagu': 'Sulawesi Utara',\n",
       " 'Luwuk': 'Sulawesi Tengah',\n",
       " 'Palu': 'Sulawesi Tengah',\n",
       " 'Bulukumba': 'Sulawesi Selatan',\n",
       " 'Watampone': 'Sulawesi Selatan',\n",
       " 'Makassar': 'Sulawesi Selatan',\n",
       " 'Pare-pare': 'Sulawesi Selatan',\n",
       " 'Palopo': 'Sulawesi Selatan',\n",
       " 'Kendari': 'Sulawesi Tenggara',\n",
       " 'Baubau': 'Sulawesi Tenggara',\n",
       " 'Gorontalo': 'Gorontalo',\n",
       " 'Mamuju': 'Sulawesi Barat',\n",
       " 'Ambon': 'Maluku',\n",
       " 'Tual': 'Maluku',\n",
       " 'Ternate': 'Maluku Utara',\n",
       " 'Manokwari': 'Papua Barat',\n",
       " 'Sorong': 'Papua Barat',\n",
       " 'Merauke': 'Papua',\n",
       " 'Timika': 'Papua',\n",
       " 'Jayapura': 'Papua'}"
      ]
     },
     "execution_count": 12,
     "metadata": {},
     "output_type": "execute_result"
    }
   ],
   "source": [
    "province_city_dict = pd.read_excel(\n",
    "    'dataset/additional/city-province-island.xlsx',\n",
    "    engine='openpyxl',\n",
    "    index_col=0\n",
    ")['Provinsi'].to_dict()\n",
    "\n",
    "province_city_dict"
   ]
  },
  {
   "cell_type": "code",
   "execution_count": 13,
   "id": "0665eddf",
   "metadata": {
    "ExecuteTime": {
     "end_time": "2023-11-11T11:42:50.478998Z",
     "start_time": "2023-11-11T11:42:50.457999Z"
    }
   },
   "outputs": [
    {
     "data": {
      "text/html": [
       "<div>\n",
       "<style scoped>\n",
       "    .dataframe tbody tr th:only-of-type {\n",
       "        vertical-align: middle;\n",
       "    }\n",
       "\n",
       "    .dataframe tbody tr th {\n",
       "        vertical-align: top;\n",
       "    }\n",
       "\n",
       "    .dataframe thead th {\n",
       "        text-align: right;\n",
       "    }\n",
       "</style>\n",
       "<table border=\"1\" class=\"dataframe\">\n",
       "  <thead>\n",
       "    <tr style=\"text-align: right;\">\n",
       "      <th></th>\n",
       "      <th>Kota</th>\n",
       "      <th>Provinsi</th>\n",
       "    </tr>\n",
       "  </thead>\n",
       "  <tbody>\n",
       "    <tr>\n",
       "      <th>0</th>\n",
       "      <td>Meulaboh</td>\n",
       "      <td>Aceh</td>\n",
       "    </tr>\n",
       "    <tr>\n",
       "      <th>1</th>\n",
       "      <td>Banda Aceh</td>\n",
       "      <td>Aceh</td>\n",
       "    </tr>\n",
       "    <tr>\n",
       "      <th>2</th>\n",
       "      <td>Lhokseumawe</td>\n",
       "      <td>Aceh</td>\n",
       "    </tr>\n",
       "    <tr>\n",
       "      <th>3</th>\n",
       "      <td>Sibolga</td>\n",
       "      <td>Sumatera Utara</td>\n",
       "    </tr>\n",
       "    <tr>\n",
       "      <th>4</th>\n",
       "      <td>Pematang Siantar</td>\n",
       "      <td>Sumatera Utara</td>\n",
       "    </tr>\n",
       "  </tbody>\n",
       "</table>\n",
       "</div>"
      ],
      "text/plain": [
       "               Kota        Provinsi\n",
       "0          Meulaboh            Aceh\n",
       "1        Banda Aceh            Aceh\n",
       "2       Lhokseumawe            Aceh\n",
       "3           Sibolga  Sumatera Utara\n",
       "4  Pematang Siantar  Sumatera Utara"
      ]
     },
     "execution_count": 13,
     "metadata": {},
     "output_type": "execute_result"
    }
   ],
   "source": [
    "df['Provinsi'] = df['Kota'].apply(lambda city: province_city_dict[city])\n",
    "df[['Kota', 'Provinsi']].head()"
   ]
  },
  {
   "cell_type": "markdown",
   "id": "20aca3cf",
   "metadata": {},
   "source": [
    "### add island column"
   ]
  },
  {
   "cell_type": "code",
   "execution_count": 14,
   "id": "25070f28",
   "metadata": {
    "ExecuteTime": {
     "end_time": "2023-11-11T11:42:50.542998Z",
     "start_time": "2023-11-11T11:42:50.489002Z"
    },
    "scrolled": true
   },
   "outputs": [
    {
     "data": {
      "text/plain": [
       "{'Aceh': 'Sumatra',\n",
       " 'Sumatera Utara': 'Sumatra',\n",
       " 'Sumatera Barat': 'Sumatra',\n",
       " 'Riau': 'Sumatra',\n",
       " 'Jambi': 'Sumatra',\n",
       " 'Sumatera Selatan': 'Sumatra',\n",
       " 'Bengkulu': 'Sumatra',\n",
       " 'Lampung': 'Sumatra',\n",
       " 'Kepulauan Bangka Belitung': 'Kepulauan Bangka Belitung',\n",
       " 'Kepulauan Riau': 'Kepulauan Riau',\n",
       " 'Daerah Khusus Ibukota Jakarta': 'Jawa',\n",
       " 'Jawa Barat': 'Jawa',\n",
       " 'Jawa Tengah': 'Jawa',\n",
       " 'Daerah Istimewa Yogyakarta': 'Jawa',\n",
       " 'Jawa Timur': 'Jawa',\n",
       " 'Banten': 'Jawa',\n",
       " 'Bali': 'Bali',\n",
       " 'Nusa Tenggara Barat': 'Nusa Tenggara Barat',\n",
       " 'Nusa Tenggara Timur': 'Nusa Tenggara Timur',\n",
       " 'Kalimantan Barat': 'Kalimantan',\n",
       " 'Kalimantan Tengah': 'Kalimantan',\n",
       " 'Kalimantan Selatan': 'Kalimantan',\n",
       " 'Kalimantan Timur': 'Kalimantan',\n",
       " 'Kalimantan Utara': 'Kalimantan',\n",
       " 'Sulawesi Utara': 'Sulawesi',\n",
       " 'Sulawesi Tengah': 'Sulawesi',\n",
       " 'Sulawesi Selatan': 'Sulawesi',\n",
       " 'Sulawesi Tenggara': 'Sulawesi',\n",
       " 'Gorontalo': 'Sulawesi',\n",
       " 'Sulawesi Barat': 'Sulawesi',\n",
       " 'Maluku': 'Maluku',\n",
       " 'Maluku Utara': 'Maluku',\n",
       " 'Papua Barat': 'Papua',\n",
       " 'Papua': 'Papua'}"
      ]
     },
     "execution_count": 14,
     "metadata": {},
     "output_type": "execute_result"
    }
   ],
   "source": [
    "province_island_dict = pd.read_excel(\n",
    "    'dataset/additional/city-province-island.xlsx',\n",
    "    engine='openpyxl',\n",
    "    index_col=1\n",
    ")['Pulau'].to_dict()\n",
    "province_island_dict"
   ]
  },
  {
   "cell_type": "code",
   "execution_count": 15,
   "id": "833ef693",
   "metadata": {
    "ExecuteTime": {
     "end_time": "2023-11-11T11:42:50.590023Z",
     "start_time": "2023-11-11T11:42:50.549001Z"
    }
   },
   "outputs": [
    {
     "data": {
      "text/html": [
       "<div>\n",
       "<style scoped>\n",
       "    .dataframe tbody tr th:only-of-type {\n",
       "        vertical-align: middle;\n",
       "    }\n",
       "\n",
       "    .dataframe tbody tr th {\n",
       "        vertical-align: top;\n",
       "    }\n",
       "\n",
       "    .dataframe thead th {\n",
       "        text-align: right;\n",
       "    }\n",
       "</style>\n",
       "<table border=\"1\" class=\"dataframe\">\n",
       "  <thead>\n",
       "    <tr style=\"text-align: right;\">\n",
       "      <th></th>\n",
       "      <th>Provinsi</th>\n",
       "      <th>Pulau</th>\n",
       "    </tr>\n",
       "  </thead>\n",
       "  <tbody>\n",
       "    <tr>\n",
       "      <th>0</th>\n",
       "      <td>Aceh</td>\n",
       "      <td>Sumatra</td>\n",
       "    </tr>\n",
       "    <tr>\n",
       "      <th>1</th>\n",
       "      <td>Aceh</td>\n",
       "      <td>Sumatra</td>\n",
       "    </tr>\n",
       "    <tr>\n",
       "      <th>2</th>\n",
       "      <td>Aceh</td>\n",
       "      <td>Sumatra</td>\n",
       "    </tr>\n",
       "    <tr>\n",
       "      <th>3</th>\n",
       "      <td>Sumatera Utara</td>\n",
       "      <td>Sumatra</td>\n",
       "    </tr>\n",
       "    <tr>\n",
       "      <th>4</th>\n",
       "      <td>Sumatera Utara</td>\n",
       "      <td>Sumatra</td>\n",
       "    </tr>\n",
       "  </tbody>\n",
       "</table>\n",
       "</div>"
      ],
      "text/plain": [
       "         Provinsi    Pulau\n",
       "0            Aceh  Sumatra\n",
       "1            Aceh  Sumatra\n",
       "2            Aceh  Sumatra\n",
       "3  Sumatera Utara  Sumatra\n",
       "4  Sumatera Utara  Sumatra"
      ]
     },
     "execution_count": 15,
     "metadata": {},
     "output_type": "execute_result"
    }
   ],
   "source": [
    "df['Pulau'] = df['Provinsi'].apply(lambda province: province_island_dict[province])\n",
    "df[['Provinsi', 'Pulau']].head()"
   ]
  },
  {
   "cell_type": "markdown",
   "id": "0e76bbc5",
   "metadata": {},
   "source": [
    "## Data type inspection"
   ]
  },
  {
   "cell_type": "code",
   "execution_count": 16,
   "id": "0a05489c",
   "metadata": {
    "ExecuteTime": {
     "end_time": "2023-11-11T11:42:50.621999Z",
     "start_time": "2023-11-11T11:42:50.599002Z"
    }
   },
   "outputs": [
    {
     "data": {
      "text/plain": [
       "Kota          object\n",
       "Januari      float64\n",
       "Februari     float64\n",
       "Maret        float64\n",
       "April        float64\n",
       "Mei          float64\n",
       "Juni         float64\n",
       "Juli         float64\n",
       "Agustus      float64\n",
       "September    float64\n",
       "Oktober      float64\n",
       "November     float64\n",
       "Desember     float64\n",
       "Tahun         object\n",
       "Provinsi      object\n",
       "Pulau         object\n",
       "dtype: object"
      ]
     },
     "execution_count": 16,
     "metadata": {},
     "output_type": "execute_result"
    }
   ],
   "source": [
    "df.dtypes"
   ]
  },
  {
   "cell_type": "markdown",
   "id": "26a40b90",
   "metadata": {},
   "source": [
    "> Columns that need a data type conversions are:\n",
    "- Tahun -> category\n",
    "- Provinsi -> category\n",
    "- Pulau -> category"
   ]
  },
  {
   "cell_type": "markdown",
   "id": "e618150c",
   "metadata": {},
   "source": [
    "### data type conversion"
   ]
  },
  {
   "cell_type": "code",
   "execution_count": 17,
   "id": "0eddf6d6",
   "metadata": {
    "ExecuteTime": {
     "end_time": "2023-11-11T11:42:50.669997Z",
     "start_time": "2023-11-11T11:42:50.629998Z"
    },
    "scrolled": true
   },
   "outputs": [
    {
     "data": {
      "text/plain": [
       "Tahun       category\n",
       "Provinsi    category\n",
       "Pulau       category\n",
       "dtype: object"
      ]
     },
     "execution_count": 17,
     "metadata": {},
     "output_type": "execute_result"
    }
   ],
   "source": [
    "df[['Tahun', 'Provinsi', 'Pulau']] = df[['Tahun', 'Provinsi', 'Pulau']].astype('category')\n",
    "df[['Tahun', 'Provinsi', 'Pulau']].dtypes"
   ]
  },
  {
   "cell_type": "markdown",
   "id": "911e2b01",
   "metadata": {},
   "source": [
    "## Data Exploration"
   ]
  },
  {
   "cell_type": "markdown",
   "id": "5bf7a577",
   "metadata": {},
   "source": [
    "### questions"
   ]
  },
  {
   "cell_type": "markdown",
   "id": "798f2262",
   "metadata": {},
   "source": [
    "To explore the dataset effectively, I will define some questions to answer:\n",
    "\n",
    "- What is the overall monthly inflation trend in Indonesia from 2020 to 2023?"
   ]
  },
  {
   "cell_type": "markdown",
   "id": "7007ca9e",
   "metadata": {},
   "source": [
    "## Visualization"
   ]
  },
  {
   "cell_type": "code",
   "execution_count": 18,
   "id": "f771fafa",
   "metadata": {
    "ExecuteTime": {
     "end_time": "2023-11-11T11:42:50.780999Z",
     "start_time": "2023-11-11T11:42:50.684998Z"
    },
    "scrolled": true
   },
   "outputs": [
    {
     "data": {
      "text/html": [
       "<div>\n",
       "<style scoped>\n",
       "    .dataframe tbody tr th:only-of-type {\n",
       "        vertical-align: middle;\n",
       "    }\n",
       "\n",
       "    .dataframe tbody tr th {\n",
       "        vertical-align: top;\n",
       "    }\n",
       "\n",
       "    .dataframe thead th {\n",
       "        text-align: right;\n",
       "    }\n",
       "</style>\n",
       "<table border=\"1\" class=\"dataframe\">\n",
       "  <thead>\n",
       "    <tr style=\"text-align: right;\">\n",
       "      <th></th>\n",
       "      <th>Januari</th>\n",
       "      <th>Februari</th>\n",
       "      <th>Maret</th>\n",
       "      <th>April</th>\n",
       "      <th>Mei</th>\n",
       "      <th>Juni</th>\n",
       "      <th>Juli</th>\n",
       "      <th>Agustus</th>\n",
       "      <th>September</th>\n",
       "      <th>Oktober</th>\n",
       "      <th>November</th>\n",
       "      <th>Desember</th>\n",
       "    </tr>\n",
       "  </thead>\n",
       "  <tbody>\n",
       "    <tr>\n",
       "      <th>count</th>\n",
       "      <td>450.000000</td>\n",
       "      <td>450.000000</td>\n",
       "      <td>450.000000</td>\n",
       "      <td>450.000000</td>\n",
       "      <td>450.000000</td>\n",
       "      <td>450.000000</td>\n",
       "      <td>450.000000</td>\n",
       "      <td>450.000000</td>\n",
       "      <td>450.000000</td>\n",
       "      <td>450.000000</td>\n",
       "      <td>450.000000</td>\n",
       "      <td>450.000000</td>\n",
       "    </tr>\n",
       "    <tr>\n",
       "      <th>mean</th>\n",
       "      <td>0.126778</td>\n",
       "      <td>0.117333</td>\n",
       "      <td>0.154000</td>\n",
       "      <td>0.028667</td>\n",
       "      <td>0.150889</td>\n",
       "      <td>0.097111</td>\n",
       "      <td>0.128556</td>\n",
       "      <td>0.108000</td>\n",
       "      <td>-0.015333</td>\n",
       "      <td>0.032889</td>\n",
       "      <td>0.120000</td>\n",
       "      <td>0.128444</td>\n",
       "    </tr>\n",
       "    <tr>\n",
       "      <th>std</th>\n",
       "      <td>0.292531</td>\n",
       "      <td>0.409214</td>\n",
       "      <td>0.358706</td>\n",
       "      <td>0.104968</td>\n",
       "      <td>0.581758</td>\n",
       "      <td>0.721634</td>\n",
       "      <td>0.365358</td>\n",
       "      <td>0.294074</td>\n",
       "      <td>0.478351</td>\n",
       "      <td>0.334951</td>\n",
       "      <td>0.293182</td>\n",
       "      <td>0.601666</td>\n",
       "    </tr>\n",
       "    <tr>\n",
       "      <th>min</th>\n",
       "      <td>-0.410000</td>\n",
       "      <td>-2.270000</td>\n",
       "      <td>-0.400000</td>\n",
       "      <td>-0.340000</td>\n",
       "      <td>-1.620000</td>\n",
       "      <td>-4.490000</td>\n",
       "      <td>-1.230000</td>\n",
       "      <td>-0.570000</td>\n",
       "      <td>-4.140000</td>\n",
       "      <td>-1.470000</td>\n",
       "      <td>-0.310000</td>\n",
       "      <td>-1.110000</td>\n",
       "    </tr>\n",
       "    <tr>\n",
       "      <th>25%</th>\n",
       "      <td>0.000000</td>\n",
       "      <td>0.000000</td>\n",
       "      <td>0.000000</td>\n",
       "      <td>0.000000</td>\n",
       "      <td>0.000000</td>\n",
       "      <td>0.000000</td>\n",
       "      <td>0.000000</td>\n",
       "      <td>0.000000</td>\n",
       "      <td>-0.010000</td>\n",
       "      <td>0.000000</td>\n",
       "      <td>0.000000</td>\n",
       "      <td>0.000000</td>\n",
       "    </tr>\n",
       "    <tr>\n",
       "      <th>50%</th>\n",
       "      <td>0.025000</td>\n",
       "      <td>0.045000</td>\n",
       "      <td>0.015000</td>\n",
       "      <td>0.000000</td>\n",
       "      <td>0.000000</td>\n",
       "      <td>0.015000</td>\n",
       "      <td>0.065000</td>\n",
       "      <td>0.015000</td>\n",
       "      <td>0.000000</td>\n",
       "      <td>0.010000</td>\n",
       "      <td>0.030000</td>\n",
       "      <td>0.010000</td>\n",
       "    </tr>\n",
       "    <tr>\n",
       "      <th>75%</th>\n",
       "      <td>0.150000</td>\n",
       "      <td>0.270000</td>\n",
       "      <td>0.220000</td>\n",
       "      <td>0.020000</td>\n",
       "      <td>0.310000</td>\n",
       "      <td>0.140000</td>\n",
       "      <td>0.270000</td>\n",
       "      <td>0.100000</td>\n",
       "      <td>0.060000</td>\n",
       "      <td>0.120000</td>\n",
       "      <td>0.140000</td>\n",
       "      <td>0.180000</td>\n",
       "    </tr>\n",
       "    <tr>\n",
       "      <th>max</th>\n",
       "      <td>1.320000</td>\n",
       "      <td>1.390000</td>\n",
       "      <td>1.940000</td>\n",
       "      <td>0.450000</td>\n",
       "      <td>2.050000</td>\n",
       "      <td>3.820000</td>\n",
       "      <td>1.410000</td>\n",
       "      <td>1.920000</td>\n",
       "      <td>0.790000</td>\n",
       "      <td>0.880000</td>\n",
       "      <td>1.930000</td>\n",
       "      <td>5.330000</td>\n",
       "    </tr>\n",
       "  </tbody>\n",
       "</table>\n",
       "</div>"
      ],
      "text/plain": [
       "          Januari    Februari       Maret       April         Mei        Juni  \\\n",
       "count  450.000000  450.000000  450.000000  450.000000  450.000000  450.000000   \n",
       "mean     0.126778    0.117333    0.154000    0.028667    0.150889    0.097111   \n",
       "std      0.292531    0.409214    0.358706    0.104968    0.581758    0.721634   \n",
       "min     -0.410000   -2.270000   -0.400000   -0.340000   -1.620000   -4.490000   \n",
       "25%      0.000000    0.000000    0.000000    0.000000    0.000000    0.000000   \n",
       "50%      0.025000    0.045000    0.015000    0.000000    0.000000    0.015000   \n",
       "75%      0.150000    0.270000    0.220000    0.020000    0.310000    0.140000   \n",
       "max      1.320000    1.390000    1.940000    0.450000    2.050000    3.820000   \n",
       "\n",
       "             Juli     Agustus   September     Oktober    November    Desember  \n",
       "count  450.000000  450.000000  450.000000  450.000000  450.000000  450.000000  \n",
       "mean     0.128556    0.108000   -0.015333    0.032889    0.120000    0.128444  \n",
       "std      0.365358    0.294074    0.478351    0.334951    0.293182    0.601666  \n",
       "min     -1.230000   -0.570000   -4.140000   -1.470000   -0.310000   -1.110000  \n",
       "25%      0.000000    0.000000   -0.010000    0.000000    0.000000    0.000000  \n",
       "50%      0.065000    0.015000    0.000000    0.010000    0.030000    0.010000  \n",
       "75%      0.270000    0.100000    0.060000    0.120000    0.140000    0.180000  \n",
       "max      1.410000    1.920000    0.790000    0.880000    1.930000    5.330000  "
      ]
     },
     "execution_count": 18,
     "metadata": {},
     "output_type": "execute_result"
    }
   ],
   "source": [
    "df.describe()"
   ]
  },
  {
   "cell_type": "code",
   "execution_count": 19,
   "id": "e08e3156",
   "metadata": {
    "ExecuteTime": {
     "end_time": "2023-11-11T11:42:54.206050Z",
     "start_time": "2023-11-11T11:42:50.784999Z"
    }
   },
   "outputs": [
    {
     "data": {
      "text/plain": [
       "{'whiskers': [<matplotlib.lines.Line2D at 0x2021cbb2790>,\n",
       "  <matplotlib.lines.Line2D at 0x2021cbb2a30>],\n",
       " 'caps': [<matplotlib.lines.Line2D at 0x2021cbb2cd0>,\n",
       "  <matplotlib.lines.Line2D at 0x2021cbb2f70>],\n",
       " 'boxes': [<matplotlib.lines.Line2D at 0x2021cbb24f0>],\n",
       " 'medians': [<matplotlib.lines.Line2D at 0x2021cbbe250>],\n",
       " 'fliers': [<matplotlib.lines.Line2D at 0x2021cbbe4f0>],\n",
       " 'means': []}"
      ]
     },
     "execution_count": 19,
     "metadata": {},
     "output_type": "execute_result"
    },
    {
     "data": {
      "image/png": "[encoded data removed]",
      "text/plain": [
       "<Figure size 640x480 with 12 Axes>"
      ]
     },
     "metadata": {},
     "output_type": "display_data"
    }
   ],
   "source": [
    "fig, axs = plt.subplots(12, sharex=True, sharey=True)\n",
    "fig.suptitle('Sharing both axes')\n",
    "axs[0].boxplot(df['Januari'], vert=False)\n",
    "axs[1].boxplot(df['Februari'], vert=False)\n",
    "axs[2].boxplot(df['Maret'], vert=False)\n",
    "axs[3].boxplot(df['April'], vert=False)\n",
    "axs[4].boxplot(df['Mei'], vert=False)\n",
    "axs[5].boxplot(df['Juni'], vert=False)\n",
    "axs[6].boxplot(df['Juli'], vert=False)\n",
    "axs[7].boxplot(df['Agustus'], vert=False)\n",
    "axs[8].boxplot(df['September'], vert=False)\n",
    "axs[9].boxplot(df['Oktober'], vert=False)\n",
    "axs[10].boxplot(df['November'], vert=False)\n",
    "axs[11].boxplot(df['Desember'], vert=False)"
   ]
  },
  {
   "cell_type": "code",
   "execution_count": null,
   "id": "8925e602",
   "metadata": {},
   "outputs": [],
   "source": []
  }
 ],
 "metadata": {
  "kernelspec": {
   "display_name": "clothes_footwear_inflation",
   "language": "python",
   "name": "clothes_footwear_inflation"
  },
  "language_info": {
   "codemirror_mode": {
    "name": "ipython",
    "version": 3
   },
   "file_extension": ".py",
   "mimetype": "text/x-python",
   "name": "python",
   "nbconvert_exporter": "python",
   "pygments_lexer": "ipython3",
   "version": "3.8.0"
  },
  "toc": {
   "base_numbering": 1,
   "nav_menu": {},
   "number_sections": true,
   "sideBar": true,
   "skip_h1_title": false,
   "title_cell": "Table of Contents",
   "title_sidebar": "Contents",
   "toc_cell": false,
   "toc_position": {
    "height": "calc(100% - 180px)",
    "left": "10px",
    "top": "150px",
    "width": "296px"
   },
   "toc_section_display": true,
   "toc_window_display": true
  },
  "varInspector": {
   "cols": {
    "lenName": 16,
    "lenType": 16,
    "lenVar": 40
   },
   "kernels_config": {
    "python": {
     "delete_cmd_postfix": "",
     "delete_cmd_prefix": "del ",
     "library": "var_list.py",
     "varRefreshCmd": "print(var_dic_list())"
    },
    "r": {
     "delete_cmd_postfix": ") ",
     "delete_cmd_prefix": "rm(",
     "library": "var_list.r",
     "varRefreshCmd": "cat(var_dic_list()) "
    }
   },
   "types_to_exclude": [
    "module",
    "function",
    "builtin_function_or_method",
    "instance",
    "_Feature"
   ],
   "window_display": false
  }
 },
 "nbformat": 4,
 "nbformat_minor": 5
}
